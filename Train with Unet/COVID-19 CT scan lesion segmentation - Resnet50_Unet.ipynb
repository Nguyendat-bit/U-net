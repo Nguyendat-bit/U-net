{
 "cells": [
  {
   "cell_type": "markdown",
   "id": "ca4f14eb",
   "metadata": {},
   "source": [
    "[![Open In Colab](https://colab.research.google.com/assets/colab-badge.svg)](https://colab.research.google.com/drive/1ROfmqetdu0Z4bRTRpH3dRJeH-FIFpcfT?usp=sharing)\n"
   ]
  },
  {
   "cell_type": "markdown",
   "id": "bfc6636a",
   "metadata": {},
   "source": [
    "# I. Setup"
   ]
  },
  {
   "cell_type": "code",
   "execution_count": 1,
   "id": "60dd77d0",
   "metadata": {
    "scrolled": true
   },
   "outputs": [
    {
     "name": "stdout",
     "output_type": "stream",
     "text": [
      "Fri Dec 17 20:13:05 2021       \n",
      "+-----------------------------------------------------------------------------+\n",
      "| NVIDIA-SMI 497.09       Driver Version: 497.09       CUDA Version: 11.5     |\n",
      "|-------------------------------+----------------------+----------------------+\n",
      "| GPU  Name            TCC/WDDM | Bus-Id        Disp.A | Volatile Uncorr. ECC |\n",
      "| Fan  Temp  Perf  Pwr:Usage/Cap|         Memory-Usage | GPU-Util  Compute M. |\n",
      "|                               |                      |               MIG M. |\n",
      "|===============================+======================+======================|\n",
      "|   0  NVIDIA GeForce ... WDDM  | 00000000:01:00.0  On |                  N/A |\n",
      "| N/A   40C    P8    N/A /  N/A |    794MiB /  4096MiB |      6%      Default |\n",
      "|                               |                      |                  N/A |\n",
      "+-------------------------------+----------------------+----------------------+\n",
      "                                                                               \n",
      "+-----------------------------------------------------------------------------+\n",
      "| Processes:                                                                  |\n",
      "|  GPU   GI   CI        PID   Type   Process name                  GPU Memory |\n",
      "|        ID   ID                                                   Usage      |\n",
      "|=============================================================================|\n",
      "|    0   N/A  N/A      2880    C+G   Insufficient Permissions        N/A      |\n",
      "|    0   N/A  N/A      3912    C+G   ....0.11.0\\GoogleDriveFS.exe    N/A      |\n",
      "|    0   N/A  N/A      4988    C+G   Insufficient Permissions        N/A      |\n",
      "|    0   N/A  N/A      6744    C+G   ...alo\\Zalo-21.11.4\\Zalo.exe    N/A      |\n",
      "|    0   N/A  N/A      7016    C+G   ...ge\\Application\\msedge.exe    N/A      |\n",
      "|    0   N/A  N/A      7548    C+G   ...y\\ShellExperienceHost.exe    N/A      |\n",
      "|    0   N/A  N/A      9596    C+G   Insufficient Permissions        N/A      |\n",
      "|    0   N/A  N/A     10388    C+G   ...rvice\\ePowerButton_NB.exe    N/A      |\n",
      "|    0   N/A  N/A     10664    C+G   ...\\app-1.0.9003\\Discord.exe    N/A      |\n",
      "|    0   N/A  N/A     12936    C+G   ...n1h2txyewy\\SearchHost.exe    N/A      |\n",
      "|    0   N/A  N/A     16376    C+G   Insufficient Permissions        N/A      |\n",
      "|    0   N/A  N/A     16580    C+G   ...n64\\EpicGamesLauncher.exe    N/A      |\n",
      "|    0   N/A  N/A     16600    C+G   ...icrosoft VS Code\\Code.exe    N/A      |\n",
      "|    0   N/A  N/A     18388    C+G   ...in7x64\\steamwebhelper.exe    N/A      |\n",
      "|    0   N/A  N/A     20376    C+G   ...wekyb3d8bbwe\\Video.UI.exe    N/A      |\n",
      "|    0   N/A  N/A     23540    C+G   C:\\Windows\\explorer.exe         N/A      |\n",
      "|    0   N/A  N/A     25464    C+G   ...perience\\NVIDIA Share.exe    N/A      |\n",
      "|    0   N/A  N/A     27596    C+G   ...cw5n1h2txyewy\\LockApp.exe    N/A      |\n",
      "|    0   N/A  N/A     27980    C+G   ...bbwe\\Microsoft.Photos.exe    N/A      |\n",
      "|    0   N/A  N/A     28284    C+G   Insufficient Permissions        N/A      |\n",
      "|    0   N/A  N/A     29944    C+G   ...artMenuExperienceHost.exe    N/A      |\n",
      "|    0   N/A  N/A     30156    C+G   ...s\\Win64\\EpicWebHelper.exe    N/A      |\n",
      "|    0   N/A  N/A     32728    C+G   ...perience\\NVIDIA Share.exe    N/A      |\n",
      "|    0   N/A  N/A     32988    C+G   ...2txyewy\\TextInputHost.exe    N/A      |\n",
      "|    0   N/A  N/A     33016      C   ...Data\\Anaconda3\\python.exe    N/A      |\n",
      "|    0   N/A  N/A     33740    C+G   ...lack\\app-4.23.0\\slack.exe    N/A      |\n",
      "+-----------------------------------------------------------------------------+\n"
     ]
    }
   ],
   "source": [
    "!nvidia-smi"
   ]
  },
  {
   "cell_type": "markdown",
   "id": "a75bcd13",
   "metadata": {},
   "source": [
    "# II. Defind function and Class"
   ]
  },
  {
   "cell_type": "code",
   "execution_count": 6,
   "id": "249bbe2c",
   "metadata": {},
   "outputs": [],
   "source": [
    "import numpy as np\n",
    "from tensorflow.keras.utils import Sequence\n",
    "import cv2\n",
    "import tensorflow as tf \n",
    "import pickle\n",
    "from tensorflow.keras.preprocessing.image import ImageDataGenerator\n",
    "import sklearn\n",
    "from sklearn.cluster import KMeans\n",
    "from tensorflow.keras.layers import *\n",
    "from tensorflow.keras import models\n",
    "from tensorflow.keras.callbacks import * \n",
    "from tensorflow.keras.applications import ResNet50\n",
    "import glob2\n",
    "from sklearn.utils import shuffle\n",
    "import matplotlib.pyplot as plt \n",
    "from tensorflow.keras.metrics import MeanIoU"
   ]
  },
  {
   "cell_type": "code",
   "execution_count": 7,
   "id": "b89ab5f3",
   "metadata": {},
   "outputs": [],
   "source": [
    "class DataGenerator(Sequence):\n",
    "    def __init__(self, all_filenames, input_size = (256, 256), batch_size = 32, shuffle = True, seed = 123, encode: dict = None, encode_with_kmean = None, color_mode = 'hsv', function = None) -> None:\n",
    "        super(DataGenerator, self).__init__()\n",
    "        assert (encode != None and encode_with_kmean == None) or (encode == None and encode_with_kmean != None), 'Not empty !'\n",
    "        assert color_mode == 'hsv' or color_mode == 'rgb'\n",
    "        self.all_filenames = all_filenames\n",
    "        self.input_size = input_size\n",
    "        self.batch_size = batch_size\n",
    "        self.shuffle = shuffle\n",
    "        self.color_mode = color_mode\n",
    "        self.encode = encode\n",
    "        self.function = function\n",
    "        self.kmean = encode_with_kmean\n",
    "        np.random.seed(seed)\n",
    "        self.on_epoch_end()\n",
    "    def processing(self, mask):\n",
    "        d = list(map(lambda x: self.encode[tuple(x)], mask.reshape(-1,3)))\n",
    "        return np.array(d).reshape(*self.input_size, 1)\n",
    "    def __len__(self):\n",
    "        return int(np.floor(len(self.all_filenames) / self.batch_size))\n",
    "    def __getitem__(self, index):\n",
    "        indexes = self.indexes[index * self.batch_size : (index + 1) * self.batch_size]\n",
    "        all_filenames_temp = [self.all_filenames[k] for k in indexes]\n",
    "        X, Y = self.__data_generation(all_filenames_temp)\n",
    "        return X, Y\n",
    "    def on_epoch_end(self):\n",
    "        self.indexes = np.arange(len(self.all_filenames))\n",
    "        if self.shuffle == True:\n",
    "            np.random.shuffle(self.indexes)\n",
    "    def __data_generation(self, all_filenames_temp):\n",
    "        batch = len(all_filenames_temp)\n",
    "        X = np.empty(shape=(batch, *self.input_size, 3))\n",
    "        Y = np.empty(shape=(batch, *self.input_size, 1))\n",
    "        for i, (fn, label_fn) in enumerate(all_filenames_temp):\n",
    "            # img\n",
    "            img = cv2.imread(fn)\n",
    "            if self.color_mode == 'hsv':\n",
    "                img = cv2.cvtColor(img, cv2.COLOR_BGR2HSV)\n",
    "            elif self.color_mode == 'rgb':\n",
    "                img = cv2.cvtColor(img, cv2.COLOR_BGR2RGB)\n",
    "            img = tf.image.resize(img, self.input_size, method = 'nearest')\n",
    "            img = tf.cast(img, tf.float32)\n",
    "            img /= 255.\n",
    "            \n",
    "            #mask\n",
    "            mask = cv2.imread(label_fn, 0)\n",
    "            mask = cv2.cvtColor(mask, cv2.COLOR_BGR2RGB)\n",
    "            mask = tf.image.resize(mask, self.input_size, method= 'nearest')\n",
    "            mask = np.array(mask)\n",
    "            if self.function:\n",
    "                mask = self.function(mask)\n",
    "            if self.encode:\n",
    "                mask = self.processing(mask)\n",
    "            if self.kmean:\n",
    "                mask = self.kmean.predict(mask.reshape(-1,3)).reshape(*self.input_size, 1)\n",
    "            mask = tf.cast(mask, tf.float32)\n",
    "            X[i,] = img\n",
    "            Y[i,] = mask\n",
    "        return X, Y"
   ]
  },
  {
   "cell_type": "code",
   "execution_count": 8,
   "id": "948724da",
   "metadata": {},
   "outputs": [],
   "source": [
    "def encode_label(mask):\n",
    "    # input (batch, rows, cols, channels)\n",
    "    colors = np.unique(mask.reshape(-1,3), axis = 0)\n",
    "    encoder = dict((tuple(j),i) for i,j in enumerate(colors)) # key is tuple \n",
    "    _label = dict((j, list(i)) for i,j in encoder.items())\n",
    "    with open('label.pickle', 'wb') as handel:\n",
    "        pickle.dump(_label, handel, protocol= pickle.HIGHEST_PROTOCOL)\n",
    "    return encoder\n",
    "def encode_label_with_Kmeans(mask, classes):\n",
    "    kmean = KMeans(classes, max_iter= 400)\n",
    "    kmean.fit(mask)\n",
    "    pred = kmean.predict(mask)\n",
    "    classes_real =  len(set(pred))\n",
    "    print(f'classes: {classes_real}')\n",
    "    label = dict((j, i.tolist()) for i,j in list(zip(mask, pred))) # key is tuple \n",
    "    with open('label.pickle', 'wb') as handel:\n",
    "        pickle.dump(label, handel, protocol= pickle.HIGHEST_PROTOCOL)\n",
    "    with open('kmean.pickle', 'wb') as handle:\n",
    "        pickle.dump(kmean, handle, protocol= pickle.HIGHEST_PROTOCOL)\n",
    "    return kmean\n",
    "def decode_label(predict, label):\n",
    "    d = list(map( lambda x: label[int(x)], predict.reshape(-1,1)))\n",
    "    img =  np.array(d).reshape(predict.shape[0], predict.shape[1], 3)\n",
    "    return img\n",
    "def DataLoader(all_train_filename, all_mask,  all_valid_filename = None, input_size = (256,256), batch_size = 4, shuffle = True, seed = 123, color_mode = 'hsv', function = None, encode_with_kmeans = False, classes = 0) -> None:\n",
    "    mask_folder = sklearn.utils.shuffle(all_mask, random_state = 47)[:16]\n",
    "    mask = [tf.image.resize(cv2.cvtColor(cv2.imread(img), cv2.COLOR_BGR2RGB), (128,128), method = 'nearest') for img in mask_folder ]\n",
    "    mask = np.array(mask)\n",
    "    kmean = None\n",
    "    encode = None\n",
    "    if function and encode_with_kmeans == False:\n",
    "        mask = function(mask)\n",
    "    if encode_with_kmeans == False:\n",
    "        encode = encode_label(mask)\n",
    "    elif encode_with_kmeans == True:\n",
    "        kmean = encode_label_with_Kmeans(mask.reshape(-1,3), classes)\n",
    "    train = DataGenerator(all_train_filename, input_size, batch_size , shuffle, seed, encode, kmean, color_mode, function)\n",
    "    if all_valid_filename == None: \n",
    "        return train, None\n",
    "    else:\n",
    "        valid = DataGenerator(all_valid_filename, input_size, batch_size, shuffle, seed, encode, kmean, color_mode, function)\n",
    "        return train, valid\n"
   ]
  },
  {
   "cell_type": "code",
   "execution_count": 4,
   "id": "d794f0f6",
   "metadata": {},
   "outputs": [],
   "source": [
    "def decoder_block(x, y, filters):\n",
    "    x = UpSampling2D()(x)\n",
    "    x = Concatenate(axis = 3)([x,y])\n",
    "    x = Conv2D(filters, 3, padding= 'same')(x)\n",
    "    x = BatchNormalization()(x)\n",
    "    x = LeakyReLU()(x)\n",
    "    x = Conv2D(filters, 3, padding= 'same')(x)\n",
    "    x = BatchNormalization()(x)\n",
    "    x = LeakyReLU()(x)\n",
    "\n",
    "    return x\n",
    "\n",
    "def resnet50_unet(input_shape, *, classes, dropout):\n",
    "    \"\"\" Input \"\"\"\n",
    "    inputs = Input(input_shape)\n",
    "\n",
    "    resnet50 = ResNet50(include_top=False, weights=\"imagenet\", input_tensor=inputs)\n",
    "\n",
    "    \"\"\" Encoder \"\"\"\n",
    "    s1 = resnet50.get_layer(\"input_1\").output          \n",
    "    s2 = resnet50.get_layer(\"conv1_relu\").output       \n",
    "    s3 = resnet50.get_layer(\"conv2_block3_out\").output \n",
    "    s4 = resnet50.get_layer(\"conv3_block4_out\").output  \n",
    "\n",
    "    x = resnet50.get_layer(\"conv4_block6_out\").output  \n",
    "\n",
    "    \"\"\" Decoder \"\"\"\n",
    "    x = decoder_block(x, s4, 512)                     \n",
    "    x = decoder_block(x, s3, 256)                    \n",
    "    x = decoder_block(x, s2, 128)                    \n",
    "    x = decoder_block(x, s1, 64)                      \n",
    "\n",
    "    x = Dropout(dropout)(x)\n",
    "    outputs = Conv2D(classes, 1, activation=\"softmax\")(x)\n",
    "\n",
    "    model = models.Model(inputs, outputs, name=\"ResNet50_U-Net\")\n",
    "    return model\n"
   ]
  },
  {
   "cell_type": "code",
   "execution_count": 11,
   "id": "648d82f4",
   "metadata": {},
   "outputs": [],
   "source": [
    "class m_iou():\n",
    "    def __init__(self, classes: int) -> None:\n",
    "        self.classes = classes\n",
    "    def mean_iou(self,y_true, y_pred):\n",
    "        y_pred = np.argmax(y_pred, axis = 3)\n",
    "        miou_keras = MeanIoU(num_classes= self.classes)\n",
    "        miou_keras.update_state(y_true, y_pred)\n",
    "        return miou_keras.result().numpy()\n",
    "    def miou_class(self, y_true, y_pred):\n",
    "        y_pred = np.argmax(y_pred, axis = 3)\n",
    "        miou_keras = MeanIoU(num_classes= self.classes)\n",
    "        miou_keras.update_state(y_true, y_pred)        \n",
    "        values = np.array(miou_keras.get_weights()).reshape(self.classes, self.classes)\n",
    "        for i in  range(self.classes):\n",
    "            class_iou = values[i,i] / (sum(values[i,:]) + sum(values[:,i]) - values[i,i])\n",
    "            print(f'IoU for class{str(i + 1)} is: {class_iou}')"
   ]
  },
  {
   "cell_type": "code",
   "execution_count": 20,
   "id": "0ff1a2d7",
   "metadata": {},
   "outputs": [],
   "source": [
    "def show_history(history, validation : bool = False):\n",
    "    if validation:\n",
    "        # Loss\n",
    "        fig, axes = plt.subplots(figsize= (20,5))\n",
    "        # Train\n",
    "        axes.plot(history.epoch, history.history['loss'], color= 'r',  label = 'Train')\n",
    "        axes.plot(history.epoch, history.history['val_loss'], color = 'b', label = 'Val')\n",
    "        axes.set_xlabel('Epoch')\n",
    "        axes.set_ylabel('Loss')\n",
    "        axes.legend()\n",
    "        # Acc\n",
    "        fig, axes = plt.subplots(figsize= (20,5))\n",
    "        # Train\n",
    "        axes.plot(history.epoch, history.history['acc'], color= 'r',  label = 'Train')\n",
    "        axes.plot(history.epoch, history.history['val_acc'], color = 'b', label = 'Val')\n",
    "        axes.set_xlabel('Epoch')\n",
    "        axes.set_ylabel('Acc')\n",
    "        axes.legend()\n",
    "        # Mean Iou\n",
    "        fig, axes = plt.subplots(figsize= (20,5))\n",
    "        # Train\n",
    "        axes.plot(history.epoch, history.history['mean_iou'], color= 'r',  label = 'Train')\n",
    "        axes.plot(history.epoch, history.history['val_mean_iou'], color = 'b', label = 'Val')\n",
    "        axes.set_xlabel('Epoch')\n",
    "        axes.set_ylabel('MeanIoU')\n",
    "        axes.legend()\n",
    "    else:\n",
    "        fig, axes = plt.subplots(1,4, figsize= (20,5))\n",
    "        # loss\n",
    "        axes[0].plot(history.epoch, history.history['loss'])\n",
    "        axes[0].set_title('Train')\n",
    "        axes[0].set_xlabel('Epoch')\n",
    "        axes[0].set_ylabel('Loss')\n",
    "        # Acc\n",
    "        axes[1].plot(history.epoch, history.history['acc'])\n",
    "        axes[1].set_title('Train')\n",
    "        axes[1].set_xlabel('Epoch')\n",
    "        axes[1].set_ylabel('Acc')\n",
    "        # Mean Iou\n",
    "        axes[2].plot(history.epoch, history.history['mean_iou'])\n",
    "        axes[2].set_title('Train')\n",
    "        axes[2].set_xlabel('Epoch')\n",
    "        axes[2].set_ylabel('MeanIoU')"
   ]
  },
  {
   "cell_type": "code",
   "execution_count": 21,
   "id": "56a25807",
   "metadata": {},
   "outputs": [],
   "source": [
    "def predict(model, image_test, label, color_mode, size):\n",
    "    image = cv2.imread(image_test)\n",
    "    if color_mode == 'hsv':\n",
    "        image_cvt = cv2.cvtColor(image, cv2.COLOR_BGR2HSV)\n",
    "    elif color_mode == 'rgb':\n",
    "        image_cvt = cv2.cvtColor(image, cv2.COLOR_BGR2RGB)\n",
    "    elif color_mode == 'gray':\n",
    "        image_cvt = cv2.cvtColor(image, cv2.COLOR_BGR2GRAY)\n",
    "        image_cvt = tf.expand_dims(image_cvt, axis = 2)\n",
    "    image_cvt = tf.image.resize(image_cvt, size, method= 'nearest')\n",
    "    image_cvt = tf.cast(image_cvt, tf.float32) \n",
    "    image_norm = image_cvt / 255.\n",
    "    image_norm = tf.expand_dims(image_norm, axis= 0)\n",
    "    new_image = model(image_norm)\n",
    "    image_argmax = np.argmax(tf.squeeze(new_image, axis = 0), axis = 2)\n",
    "    image_decode = decode_label(image_argmax, label)\n",
    "    predict_img = tf.cast(tf.image.resize(cv2.cvtColor(image, cv2.COLOR_BGR2RGB), size, method = 'nearest'), tf.float32) * 0.7 + image_decode * 0.3\n",
    "    return np.floor(predict_img).astype('int'), new_image"
   ]
  },
  {
   "cell_type": "code",
   "execution_count": 3,
   "id": "c85c4b4b",
   "metadata": {},
   "outputs": [],
   "source": [
    "def show_example(image, mask, model, label, inp_size, color_mode, function = None, kmean = None):\n",
    "    img = cv2.cvtColor(cv2.imread(image),cv2.COLOR_BGR2RGB)\n",
    "    img = tf.image.resize(img, inp_size, method ='nearest')\n",
    "    pred, _pred= predict(model, image, label, color_mode, inp_size)\n",
    "    if mask != None:\n",
    "        msk= cv2.cvtColor(cv2.imread(mask), cv2.COLOR_BGR2RGB)\n",
    "        msk= tf.image.resize(msk, inp_size, method = 'nearest')\n",
    "        if function:\n",
    "            msk = tf.convert_to_tensor(function(msk.numpy()))\n",
    "        if kmean:\n",
    "            y_true = kmean.predict(msk.numpy().reshape(-1,3)).reshape(*inp_size, 1)\n",
    "        else:\n",
    "            y_true = train_data.processing(msk.numpy())\n",
    "        m.miou_class(y_true, _pred)\n",
    "        y_true = decode_label(y_true, label)\n",
    "        ground_truth = np.floor(img.numpy() * 0.7 + y_true * 0.3).astype('int')\n",
    "        fig, axes = plt.subplots(1,3, figsize = (12,3))\n",
    "        axes[0].imshow(img)\n",
    "        axes[0].set_title('Original Image')\n",
    "        axes[1].set_title('Ground truth')\n",
    "        axes[1].imshow(ground_truth)\n",
    "        axes[2].set_title('Prediction')\n",
    "        axes[2].imshow(pred)\n",
    "\n",
    "    else:\n",
    "        fig, axes = plt.subplots(1,2, figsize = (12,3))\n",
    "        axes[0].imshow(img)\n",
    "        axes[0].set_title('Original Image')\n",
    "        axes[1].set_title('Prediction')\n",
    "        axes[1].imshow(pred)"
   ]
  },
  {
   "cell_type": "markdown",
   "id": "c2605a1f",
   "metadata": {},
   "source": [
    "# III. Prepare data to train"
   ]
  },
  {
   "cell_type": "code",
   "execution_count": 9,
   "id": "6b949c51",
   "metadata": {},
   "outputs": [],
   "source": [
    "images = sorted(glob2.glob('frames/*.jpg'))\n",
    "masks = sorted(glob2.glob('masks/*.jpg'))\n",
    "data = list(zip(images, masks))\n",
    "data = shuffle(data, random_state= 42)\n",
    "split = int(0.9 * len(data))\n",
    "all_train_filenames = data[:split]\n",
    "all_valid_filenames = data[split:]"
   ]
  },
  {
   "cell_type": "code",
   "execution_count": 25,
   "id": "1aae8bb0",
   "metadata": {},
   "outputs": [
    {
     "name": "stdout",
     "output_type": "stream",
     "text": [
      "classes: 2\n"
     ]
    }
   ],
   "source": [
    "train_data, valid_data = DataLoader(all_train_filenames, masks, all_valid_filenames, (128, 128), 8, True, 47, 'rgb', None, True, 2)"
   ]
  },
  {
   "cell_type": "code",
   "execution_count": null,
   "id": "e5a5ab43",
   "metadata": {},
   "outputs": [],
   "source": [
    "inp_size = (128, 128, 3)\n",
    "unet = resnet50_unet(inp_size, classes= 2, dropout= 0.3)"
   ]
  },
  {
   "cell_type": "code",
   "execution_count": 12,
   "id": "39c2fdec",
   "metadata": {},
   "outputs": [],
   "source": [
    "m = m_iou(2)"
   ]
  },
  {
   "cell_type": "code",
   "execution_count": 10,
   "id": "4939f327",
   "metadata": {},
   "outputs": [],
   "source": [
    "checkpoint = ModelCheckpoint('resunet.h5', monitor= 'val_mean_iou', save_best_only= True, verbose= 1, mode = 'max')\n",
    "lr_R = ReduceLROnPlateau(monitor= 'loss', patience= 3, verbose= 1, factor= 0.3, min_lr= 0.00001)"
   ]
  },
  {
   "cell_type": "markdown",
   "id": "f2446bc2",
   "metadata": {},
   "source": [
    "# IV. Train"
   ]
  },
  {
   "cell_type": "code",
   "execution_count": 11,
   "id": "724d0393",
   "metadata": {},
   "outputs": [
    {
     "name": "stdout",
     "output_type": "stream",
     "text": [
      "Epoch 1/80\n",
      "307/307 [==============================] - ETA: 0s - loss: 0.0684 - mean_iou: 0.5332 - acc: 0.9796\n",
      "Epoch 00001: val_mean_iou improved from -inf to 0.47771, saving model to resunet.h5\n"
     ]
    },
    {
     "name": "stderr",
     "output_type": "stream",
     "text": [
      "C:\\ProgramData\\Anaconda3\\lib\\site-packages\\keras\\engine\\functional.py:1410: CustomMaskWarning: Custom mask layers require a config and must override get_config. When loading, the custom mask layer must be passed to the custom_objects argument.\n",
      "  layer_config = serialize_layer_fn(layer)\n"
     ]
    },
    {
     "name": "stdout",
     "output_type": "stream",
     "text": [
      "307/307 [==============================] - 220s 685ms/step - loss: 0.0684 - mean_iou: 0.5332 - acc: 0.9796 - val_loss: 0.1656 - val_mean_iou: 0.4777 - val_acc: 0.9387 - lr: 0.0100\n",
      "Epoch 2/80\n",
      "307/307 [==============================] - ETA: 0s - loss: 0.0360 - mean_iou: 0.6375 - acc: 0.9875\n",
      "Epoch 00002: val_mean_iou did not improve from 0.47771\n",
      "307/307 [==============================] - 170s 555ms/step - loss: 0.0360 - mean_iou: 0.6375 - acc: 0.9875 - val_loss: 0.2525 - val_mean_iou: 0.4672 - val_acc: 0.8566 - lr: 0.0100\n",
      "Epoch 3/80\n",
      "307/307 [==============================] - ETA: 0s - loss: 0.0300 - mean_iou: 0.6906 - acc: 0.9893\n",
      "Epoch 00003: val_mean_iou improved from 0.47771 to 0.60598, saving model to resunet.h5\n"
     ]
    },
    {
     "name": "stderr",
     "output_type": "stream",
     "text": [
      "C:\\ProgramData\\Anaconda3\\lib\\site-packages\\keras\\engine\\functional.py:1410: CustomMaskWarning: Custom mask layers require a config and must override get_config. When loading, the custom mask layer must be passed to the custom_objects argument.\n",
      "  layer_config = serialize_layer_fn(layer)\n"
     ]
    },
    {
     "name": "stdout",
     "output_type": "stream",
     "text": [
      "307/307 [==============================] - 180s 586ms/step - loss: 0.0300 - mean_iou: 0.6906 - acc: 0.9893 - val_loss: 0.0868 - val_mean_iou: 0.6060 - val_acc: 0.9610 - lr: 0.0100\n",
      "Epoch 4/80\n",
      "307/307 [==============================] - ETA: 0s - loss: 0.0281 - mean_iou: 0.7112 - acc: 0.9898\n",
      "Epoch 00004: val_mean_iou improved from 0.60598 to 0.69424, saving model to resunet.h5\n"
     ]
    },
    {
     "name": "stderr",
     "output_type": "stream",
     "text": [
      "C:\\ProgramData\\Anaconda3\\lib\\site-packages\\keras\\engine\\functional.py:1410: CustomMaskWarning: Custom mask layers require a config and must override get_config. When loading, the custom mask layer must be passed to the custom_objects argument.\n",
      "  layer_config = serialize_layer_fn(layer)\n"
     ]
    },
    {
     "name": "stdout",
     "output_type": "stream",
     "text": [
      "307/307 [==============================] - 183s 595ms/step - loss: 0.0281 - mean_iou: 0.7112 - acc: 0.9898 - val_loss: 0.0349 - val_mean_iou: 0.6942 - val_acc: 0.9878 - lr: 0.0100\n",
      "Epoch 5/80\n",
      "307/307 [==============================] - ETA: 0s - loss: 0.0239 - mean_iou: 0.7470 - acc: 0.9913\n",
      "Epoch 00005: val_mean_iou did not improve from 0.69424\n",
      "307/307 [==============================] - 180s 584ms/step - loss: 0.0239 - mean_iou: 0.7470 - acc: 0.9913 - val_loss: 0.2933 - val_mean_iou: 0.4869 - val_acc: 0.8737 - lr: 0.0100\n",
      "Epoch 6/80\n",
      "307/307 [==============================] - ETA: 0s - loss: 0.0221 - mean_iou: 0.7611 - acc: 0.9919\n",
      "Epoch 00006: val_mean_iou improved from 0.69424 to 0.76351, saving model to resunet.h5\n"
     ]
    },
    {
     "name": "stderr",
     "output_type": "stream",
     "text": [
      "C:\\ProgramData\\Anaconda3\\lib\\site-packages\\keras\\engine\\functional.py:1410: CustomMaskWarning: Custom mask layers require a config and must override get_config. When loading, the custom mask layer must be passed to the custom_objects argument.\n",
      "  layer_config = serialize_layer_fn(layer)\n"
     ]
    },
    {
     "name": "stdout",
     "output_type": "stream",
     "text": [
      "307/307 [==============================] - 176s 572ms/step - loss: 0.0221 - mean_iou: 0.7611 - acc: 0.9919 - val_loss: 0.0256 - val_mean_iou: 0.7635 - val_acc: 0.9906 - lr: 0.0100\n",
      "Epoch 7/80\n",
      "307/307 [==============================] - ETA: 0s - loss: 0.0202 - mean_iou: 0.7803 - acc: 0.9925\n",
      "Epoch 00007: val_mean_iou improved from 0.76351 to 0.78636, saving model to resunet.h5\n"
     ]
    },
    {
     "name": "stderr",
     "output_type": "stream",
     "text": [
      "C:\\ProgramData\\Anaconda3\\lib\\site-packages\\keras\\engine\\functional.py:1410: CustomMaskWarning: Custom mask layers require a config and must override get_config. When loading, the custom mask layer must be passed to the custom_objects argument.\n",
      "  layer_config = serialize_layer_fn(layer)\n"
     ]
    },
    {
     "name": "stdout",
     "output_type": "stream",
     "text": [
      "307/307 [==============================] - 175s 569ms/step - loss: 0.0202 - mean_iou: 0.7803 - acc: 0.9925 - val_loss: 0.0209 - val_mean_iou: 0.7864 - val_acc: 0.9926 - lr: 0.0100\n",
      "Epoch 8/80\n",
      "307/307 [==============================] - ETA: 0s - loss: 0.0191 - mean_iou: 0.7874 - acc: 0.9929\n",
      "Epoch 00008: val_mean_iou improved from 0.78636 to 0.79941, saving model to resunet.h5\n"
     ]
    },
    {
     "name": "stderr",
     "output_type": "stream",
     "text": [
      "C:\\ProgramData\\Anaconda3\\lib\\site-packages\\keras\\engine\\functional.py:1410: CustomMaskWarning: Custom mask layers require a config and must override get_config. When loading, the custom mask layer must be passed to the custom_objects argument.\n",
      "  layer_config = serialize_layer_fn(layer)\n"
     ]
    },
    {
     "name": "stdout",
     "output_type": "stream",
     "text": [
      "307/307 [==============================] - 175s 570ms/step - loss: 0.0191 - mean_iou: 0.7874 - acc: 0.9929 - val_loss: 0.0180 - val_mean_iou: 0.7994 - val_acc: 0.9932 - lr: 0.0100\n",
      "Epoch 9/80\n",
      "307/307 [==============================] - ETA: 0s - loss: 0.0189 - mean_iou: 0.7885 - acc: 0.9929\n",
      "Epoch 00009: val_mean_iou did not improve from 0.79941\n",
      "307/307 [==============================] - 174s 565ms/step - loss: 0.0189 - mean_iou: 0.7885 - acc: 0.9929 - val_loss: 0.0204 - val_mean_iou: 0.7938 - val_acc: 0.9920 - lr: 0.0100\n",
      "Epoch 10/80\n",
      "307/307 [==============================] - ETA: 0s - loss: 0.0175 - mean_iou: 0.8019 - acc: 0.9933\n",
      "Epoch 00010: val_mean_iou did not improve from 0.79941\n",
      "307/307 [==============================] - 175s 571ms/step - loss: 0.0175 - mean_iou: 0.8019 - acc: 0.9933 - val_loss: 0.0478 - val_mean_iou: 0.6642 - val_acc: 0.9782 - lr: 0.0100\n",
      "Epoch 11/80\n",
      "307/307 [==============================] - ETA: 0s - loss: 0.0165 - mean_iou: 0.8109 - acc: 0.9937\n",
      "Epoch 00011: val_mean_iou did not improve from 0.79941\n",
      "307/307 [==============================] - 178s 579ms/step - loss: 0.0165 - mean_iou: 0.8109 - acc: 0.9937 - val_loss: 0.0282 - val_mean_iou: 0.7480 - val_acc: 0.9885 - lr: 0.0100\n",
      "Epoch 12/80\n",
      "307/307 [==============================] - ETA: 0s - loss: 0.0161 - mean_iou: 0.8112 - acc: 0.9938\n",
      "Epoch 00012: val_mean_iou did not improve from 0.79941\n",
      "307/307 [==============================] - 176s 573ms/step - loss: 0.0161 - mean_iou: 0.8112 - acc: 0.9938 - val_loss: 0.0214 - val_mean_iou: 0.7953 - val_acc: 0.9925 - lr: 0.0100\n",
      "Epoch 13/80\n",
      "307/307 [==============================] - ETA: 0s - loss: 0.0157 - mean_iou: 0.8173 - acc: 0.9940\n",
      "Epoch 00013: val_mean_iou improved from 0.79941 to 0.81595, saving model to resunet.h5\n"
     ]
    },
    {
     "name": "stderr",
     "output_type": "stream",
     "text": [
      "C:\\ProgramData\\Anaconda3\\lib\\site-packages\\keras\\engine\\functional.py:1410: CustomMaskWarning: Custom mask layers require a config and must override get_config. When loading, the custom mask layer must be passed to the custom_objects argument.\n",
      "  layer_config = serialize_layer_fn(layer)\n"
     ]
    },
    {
     "name": "stdout",
     "output_type": "stream",
     "text": [
      "307/307 [==============================] - 177s 576ms/step - loss: 0.0157 - mean_iou: 0.8173 - acc: 0.9940 - val_loss: 0.0165 - val_mean_iou: 0.8159 - val_acc: 0.9935 - lr: 0.0100\n",
      "Epoch 14/80\n",
      "307/307 [==============================] - ETA: 0s - loss: 0.0145 - mean_iou: 0.8254 - acc: 0.9943\n",
      "Epoch 00014: val_mean_iou did not improve from 0.81595\n",
      "307/307 [==============================] - 176s 572ms/step - loss: 0.0145 - mean_iou: 0.8254 - acc: 0.9943 - val_loss: 0.0896 - val_mean_iou: 0.6016 - val_acc: 0.9567 - lr: 0.0100\n",
      "Epoch 15/80\n",
      "307/307 [==============================] - ETA: 0s - loss: 0.0141 - mean_iou: 0.8314 - acc: 0.9945\n",
      "Epoch 00015: val_mean_iou improved from 0.81595 to 0.81991, saving model to resunet.h5\n"
     ]
    },
    {
     "name": "stderr",
     "output_type": "stream",
     "text": [
      "C:\\ProgramData\\Anaconda3\\lib\\site-packages\\keras\\engine\\functional.py:1410: CustomMaskWarning: Custom mask layers require a config and must override get_config. When loading, the custom mask layer must be passed to the custom_objects argument.\n",
      "  layer_config = serialize_layer_fn(layer)\n"
     ]
    },
    {
     "name": "stdout",
     "output_type": "stream",
     "text": [
      "307/307 [==============================] - 176s 571ms/step - loss: 0.0141 - mean_iou: 0.8314 - acc: 0.9945 - val_loss: 0.0158 - val_mean_iou: 0.8199 - val_acc: 0.9941 - lr: 0.0100\n",
      "Epoch 16/80\n",
      "307/307 [==============================] - ETA: 0s - loss: 0.0136 - mean_iou: 0.8345 - acc: 0.9946\n",
      "Epoch 00016: val_mean_iou did not improve from 0.81991\n",
      "307/307 [==============================] - 173s 565ms/step - loss: 0.0136 - mean_iou: 0.8345 - acc: 0.9946 - val_loss: 0.0222 - val_mean_iou: 0.7865 - val_acc: 0.9924 - lr: 0.0100\n",
      "Epoch 17/80\n",
      "307/307 [==============================] - ETA: 0s - loss: 0.0140 - mean_iou: 0.8317 - acc: 0.9945\n",
      "Epoch 00017: val_mean_iou improved from 0.81991 to 0.83028, saving model to resunet.h5\n"
     ]
    },
    {
     "name": "stderr",
     "output_type": "stream",
     "text": [
      "C:\\ProgramData\\Anaconda3\\lib\\site-packages\\keras\\engine\\functional.py:1410: CustomMaskWarning: Custom mask layers require a config and must override get_config. When loading, the custom mask layer must be passed to the custom_objects argument.\n",
      "  layer_config = serialize_layer_fn(layer)\n"
     ]
    },
    {
     "name": "stdout",
     "output_type": "stream",
     "text": [
      "307/307 [==============================] - 174s 565ms/step - loss: 0.0140 - mean_iou: 0.8317 - acc: 0.9945 - val_loss: 0.0150 - val_mean_iou: 0.8303 - val_acc: 0.9943 - lr: 0.0100\n",
      "Epoch 18/80\n",
      "307/307 [==============================] - ETA: 0s - loss: 0.0126 - mean_iou: 0.8430 - acc: 0.9950\n",
      "Epoch 00018: val_mean_iou did not improve from 0.83028\n",
      "307/307 [==============================] - 176s 572ms/step - loss: 0.0126 - mean_iou: 0.8430 - acc: 0.9950 - val_loss: 0.0159 - val_mean_iou: 0.8244 - val_acc: 0.9940 - lr: 0.0100\n",
      "Epoch 19/80\n",
      "307/307 [==============================] - ETA: 0s - loss: 0.0119 - mean_iou: 0.8508 - acc: 0.9952\n",
      "Epoch 00019: val_mean_iou did not improve from 0.83028\n",
      "307/307 [==============================] - 173s 561ms/step - loss: 0.0119 - mean_iou: 0.8508 - acc: 0.9952 - val_loss: 0.0209 - val_mean_iou: 0.7981 - val_acc: 0.9918 - lr: 0.0100\n",
      "Epoch 20/80\n",
      "307/307 [==============================] - ETA: 0s - loss: 0.0121 - mean_iou: 0.8499 - acc: 0.9951\n",
      "Epoch 00020: val_mean_iou did not improve from 0.83028\n",
      "307/307 [==============================] - 173s 563ms/step - loss: 0.0121 - mean_iou: 0.8499 - acc: 0.9951 - val_loss: 0.0255 - val_mean_iou: 0.7528 - val_acc: 0.9896 - lr: 0.0100\n",
      "Epoch 21/80\n",
      "307/307 [==============================] - ETA: 0s - loss: 0.0124 - mean_iou: 0.8459 - acc: 0.9950\n",
      "Epoch 00021: val_mean_iou did not improve from 0.83028\n",
      "307/307 [==============================] - 174s 567ms/step - loss: 0.0124 - mean_iou: 0.8459 - acc: 0.9950 - val_loss: 0.0164 - val_mean_iou: 0.8045 - val_acc: 0.9942 - lr: 0.0100\n",
      "Epoch 22/80\n",
      "307/307 [==============================] - ETA: 0s - loss: 0.0115 - mean_iou: 0.8525 - acc: 0.9953\n",
      "Epoch 00022: val_mean_iou improved from 0.83028 to 0.83416, saving model to resunet.h5\n"
     ]
    },
    {
     "name": "stderr",
     "output_type": "stream",
     "text": [
      "C:\\ProgramData\\Anaconda3\\lib\\site-packages\\keras\\engine\\functional.py:1410: CustomMaskWarning: Custom mask layers require a config and must override get_config. When loading, the custom mask layer must be passed to the custom_objects argument.\n",
      "  layer_config = serialize_layer_fn(layer)\n"
     ]
    },
    {
     "name": "stdout",
     "output_type": "stream",
     "text": [
      "307/307 [==============================] - 180s 586ms/step - loss: 0.0115 - mean_iou: 0.8525 - acc: 0.9953 - val_loss: 0.0150 - val_mean_iou: 0.8342 - val_acc: 0.9946 - lr: 0.0100\n",
      "Epoch 23/80\n",
      "307/307 [==============================] - ETA: 0s - loss: 0.0111 - mean_iou: 0.8580 - acc: 0.9955\n",
      "Epoch 00023: val_mean_iou improved from 0.83416 to 0.84092, saving model to resunet.h5\n"
     ]
    },
    {
     "name": "stderr",
     "output_type": "stream",
     "text": [
      "C:\\ProgramData\\Anaconda3\\lib\\site-packages\\keras\\engine\\functional.py:1410: CustomMaskWarning: Custom mask layers require a config and must override get_config. When loading, the custom mask layer must be passed to the custom_objects argument.\n",
      "  layer_config = serialize_layer_fn(layer)\n"
     ]
    },
    {
     "name": "stdout",
     "output_type": "stream",
     "text": [
      "307/307 [==============================] - 175s 571ms/step - loss: 0.0111 - mean_iou: 0.8580 - acc: 0.9955 - val_loss: 0.0129 - val_mean_iou: 0.8409 - val_acc: 0.9950 - lr: 0.0100\n",
      "Epoch 24/80\n",
      "307/307 [==============================] - ETA: 0s - loss: 0.0109 - mean_iou: 0.8600 - acc: 0.9955\n",
      "Epoch 00024: val_mean_iou did not improve from 0.84092\n",
      "307/307 [==============================] - 174s 566ms/step - loss: 0.0109 - mean_iou: 0.8600 - acc: 0.9955 - val_loss: 0.0155 - val_mean_iou: 0.8355 - val_acc: 0.9938 - lr: 0.0100\n",
      "Epoch 25/80\n",
      "307/307 [==============================] - ETA: 0s - loss: 0.0105 - mean_iou: 0.8644 - acc: 0.9957\n",
      "Epoch 00025: val_mean_iou did not improve from 0.84092\n",
      "307/307 [==============================] - 173s 565ms/step - loss: 0.0105 - mean_iou: 0.8644 - acc: 0.9957 - val_loss: 0.0136 - val_mean_iou: 0.8405 - val_acc: 0.9948 - lr: 0.0100\n",
      "Epoch 26/80\n",
      "307/307 [==============================] - ETA: 0s - loss: 0.0102 - mean_iou: 0.8665 - acc: 0.9958\n",
      "Epoch 00026: val_mean_iou did not improve from 0.84092\n",
      "307/307 [==============================] - 173s 562ms/step - loss: 0.0102 - mean_iou: 0.8665 - acc: 0.9958 - val_loss: 0.0172 - val_mean_iou: 0.8219 - val_acc: 0.9944 - lr: 0.0100\n",
      "Epoch 27/80\n",
      "307/307 [==============================] - ETA: 0s - loss: 0.0103 - mean_iou: 0.8660 - acc: 0.9958\n",
      "Epoch 00027: val_mean_iou improved from 0.84092 to 0.85017, saving model to resunet.h5\n"
     ]
    },
    {
     "name": "stderr",
     "output_type": "stream",
     "text": [
      "C:\\ProgramData\\Anaconda3\\lib\\site-packages\\keras\\engine\\functional.py:1410: CustomMaskWarning: Custom mask layers require a config and must override get_config. When loading, the custom mask layer must be passed to the custom_objects argument.\n",
      "  layer_config = serialize_layer_fn(layer)\n"
     ]
    },
    {
     "name": "stdout",
     "output_type": "stream",
     "text": [
      "307/307 [==============================] - 174s 567ms/step - loss: 0.0103 - mean_iou: 0.8660 - acc: 0.9958 - val_loss: 0.0127 - val_mean_iou: 0.8502 - val_acc: 0.9952 - lr: 0.0100\n",
      "Epoch 28/80\n",
      "307/307 [==============================] - ETA: 0s - loss: 0.0097 - mean_iou: 0.8738 - acc: 0.9960\n",
      "Epoch 00028: val_mean_iou did not improve from 0.85017\n",
      "307/307 [==============================] - 175s 570ms/step - loss: 0.0097 - mean_iou: 0.8738 - acc: 0.9960 - val_loss: 0.0533 - val_mean_iou: 0.6636 - val_acc: 0.9899 - lr: 0.0100\n",
      "Epoch 29/80\n",
      "307/307 [==============================] - ETA: 0s - loss: 0.0098 - mean_iou: 0.8698 - acc: 0.9960\n",
      "Epoch 00029: val_mean_iou did not improve from 0.85017\n",
      "307/307 [==============================] - 174s 565ms/step - loss: 0.0098 - mean_iou: 0.8698 - acc: 0.9960 - val_loss: 0.0201 - val_mean_iou: 0.8011 - val_acc: 0.9921 - lr: 0.0100\n",
      "Epoch 30/80\n",
      "307/307 [==============================] - ETA: 0s - loss: 0.0096 - mean_iou: 0.8724 - acc: 0.9960\n",
      "Epoch 00030: val_mean_iou did not improve from 0.85017\n",
      "307/307 [==============================] - 171s 556ms/step - loss: 0.0096 - mean_iou: 0.8724 - acc: 0.9960 - val_loss: 0.0137 - val_mean_iou: 0.8501 - val_acc: 0.9953 - lr: 0.0100\n",
      "Epoch 31/80\n",
      "307/307 [==============================] - ETA: 0s - loss: 0.0092 - mean_iou: 0.8771 - acc: 0.9962\n",
      "Epoch 00031: val_mean_iou did not improve from 0.85017\n",
      "307/307 [==============================] - 176s 574ms/step - loss: 0.0092 - mean_iou: 0.8771 - acc: 0.9962 - val_loss: 0.0229 - val_mean_iou: 0.7920 - val_acc: 0.9912 - lr: 0.0100\n",
      "Epoch 32/80\n",
      "307/307 [==============================] - ETA: 0s - loss: 0.0091 - mean_iou: 0.8795 - acc: 0.9962\n",
      "Epoch 00032: val_mean_iou did not improve from 0.85017\n",
      "307/307 [==============================] - 174s 566ms/step - loss: 0.0091 - mean_iou: 0.8795 - acc: 0.9962 - val_loss: 0.0138 - val_mean_iou: 0.8395 - val_acc: 0.9947 - lr: 0.0100\n",
      "Epoch 33/80\n",
      "307/307 [==============================] - ETA: 0s - loss: 0.0088 - mean_iou: 0.8818 - acc: 0.9964\n",
      "Epoch 00033: val_mean_iou did not improve from 0.85017\n",
      "307/307 [==============================] - 173s 563ms/step - loss: 0.0088 - mean_iou: 0.8818 - acc: 0.9964 - val_loss: 0.0149 - val_mean_iou: 0.8428 - val_acc: 0.9951 - lr: 0.0100\n",
      "Epoch 34/80\n",
      "307/307 [==============================] - ETA: 0s - loss: 0.0088 - mean_iou: 0.8832 - acc: 0.9964\n",
      "Epoch 00034: val_mean_iou did not improve from 0.85017\n",
      "307/307 [==============================] - 175s 570ms/step - loss: 0.0088 - mean_iou: 0.8832 - acc: 0.9964 - val_loss: 0.0145 - val_mean_iou: 0.8454 - val_acc: 0.9949 - lr: 0.0100\n",
      "Epoch 35/80\n",
      "307/307 [==============================] - ETA: 0s - loss: 0.0097 - mean_iou: 0.8737 - acc: 0.9960\n",
      "Epoch 00035: val_mean_iou did not improve from 0.85017\n",
      "307/307 [==============================] - 174s 567ms/step - loss: 0.0097 - mean_iou: 0.8737 - acc: 0.9960 - val_loss: 0.5835 - val_mean_iou: 0.4957 - val_acc: 0.8916 - lr: 0.0100\n",
      "Epoch 36/80\n",
      "307/307 [==============================] - ETA: 0s - loss: 0.0111 - mean_iou: 0.8616 - acc: 0.9955\n",
      "Epoch 00036: val_mean_iou did not improve from 0.85017\n",
      "\n",
      "Epoch 00036: ReduceLROnPlateau reducing learning rate to 0.0029999999329447745.\n",
      "307/307 [==============================] - 180s 587ms/step - loss: 0.0111 - mean_iou: 0.8616 - acc: 0.9955 - val_loss: 0.0133 - val_mean_iou: 0.8475 - val_acc: 0.9948 - lr: 0.0100\n",
      "Epoch 37/80\n",
      "307/307 [==============================] - ETA: 0s - loss: 0.0075 - mean_iou: 0.8986 - acc: 0.9969\n",
      "Epoch 00037: val_mean_iou improved from 0.85017 to 0.86122, saving model to resunet.h5\n"
     ]
    },
    {
     "name": "stderr",
     "output_type": "stream",
     "text": [
      "C:\\ProgramData\\Anaconda3\\lib\\site-packages\\keras\\engine\\functional.py:1410: CustomMaskWarning: Custom mask layers require a config and must override get_config. When loading, the custom mask layer must be passed to the custom_objects argument.\n",
      "  layer_config = serialize_layer_fn(layer)\n"
     ]
    },
    {
     "name": "stdout",
     "output_type": "stream",
     "text": [
      "307/307 [==============================] - 175s 571ms/step - loss: 0.0075 - mean_iou: 0.8986 - acc: 0.9969 - val_loss: 0.0124 - val_mean_iou: 0.8612 - val_acc: 0.9956 - lr: 0.0030\n",
      "Epoch 38/80\n",
      "307/307 [==============================] - ETA: 0s - loss: 0.0068 - mean_iou: 0.9055 - acc: 0.9971\n",
      "Epoch 00038: val_mean_iou improved from 0.86122 to 0.86165, saving model to resunet.h5\n"
     ]
    },
    {
     "name": "stderr",
     "output_type": "stream",
     "text": [
      "C:\\ProgramData\\Anaconda3\\lib\\site-packages\\keras\\engine\\functional.py:1410: CustomMaskWarning: Custom mask layers require a config and must override get_config. When loading, the custom mask layer must be passed to the custom_objects argument.\n",
      "  layer_config = serialize_layer_fn(layer)\n"
     ]
    },
    {
     "name": "stdout",
     "output_type": "stream",
     "text": [
      "307/307 [==============================] - 178s 581ms/step - loss: 0.0068 - mean_iou: 0.9055 - acc: 0.9971 - val_loss: 0.0127 - val_mean_iou: 0.8617 - val_acc: 0.9957 - lr: 0.0030\n",
      "Epoch 39/80\n",
      "307/307 [==============================] - ETA: 0s - loss: 0.0065 - mean_iou: 0.9100 - acc: 0.9973\n",
      "Epoch 00039: val_mean_iou improved from 0.86165 to 0.86414, saving model to resunet.h5\n"
     ]
    },
    {
     "name": "stderr",
     "output_type": "stream",
     "text": [
      "C:\\ProgramData\\Anaconda3\\lib\\site-packages\\keras\\engine\\functional.py:1410: CustomMaskWarning: Custom mask layers require a config and must override get_config. When loading, the custom mask layer must be passed to the custom_objects argument.\n",
      "  layer_config = serialize_layer_fn(layer)\n"
     ]
    },
    {
     "name": "stdout",
     "output_type": "stream",
     "text": [
      "307/307 [==============================] - 177s 576ms/step - loss: 0.0065 - mean_iou: 0.9100 - acc: 0.9973 - val_loss: 0.0123 - val_mean_iou: 0.8641 - val_acc: 0.9958 - lr: 0.0030\n",
      "Epoch 40/80\n",
      "307/307 [==============================] - ETA: 0s - loss: 0.0063 - mean_iou: 0.9119 - acc: 0.9973\n",
      "Epoch 00040: val_mean_iou did not improve from 0.86414\n",
      "307/307 [==============================] - 180s 585ms/step - loss: 0.0063 - mean_iou: 0.9119 - acc: 0.9973 - val_loss: 0.0128 - val_mean_iou: 0.8639 - val_acc: 0.9956 - lr: 0.0030\n",
      "Epoch 41/80\n",
      "307/307 [==============================] - ETA: 0s - loss: 0.0061 - mean_iou: 0.9140 - acc: 0.9974\n",
      "Epoch 00041: val_mean_iou did not improve from 0.86414\n",
      "307/307 [==============================] - 175s 569ms/step - loss: 0.0061 - mean_iou: 0.9140 - acc: 0.9974 - val_loss: 0.0142 - val_mean_iou: 0.8595 - val_acc: 0.9956 - lr: 0.0030\n",
      "Epoch 42/80\n",
      "307/307 [==============================] - ETA: 0s - loss: 0.0059 - mean_iou: 0.9158 - acc: 0.9975\n",
      "Epoch 00042: val_mean_iou did not improve from 0.86414\n",
      "307/307 [==============================] - 179s 581ms/step - loss: 0.0059 - mean_iou: 0.9158 - acc: 0.9975 - val_loss: 0.0139 - val_mean_iou: 0.8592 - val_acc: 0.9955 - lr: 0.0030\n",
      "Epoch 43/80\n",
      "307/307 [==============================] - ETA: 0s - loss: 0.0058 - mean_iou: 0.9165 - acc: 0.9975\n",
      "Epoch 00043: val_mean_iou did not improve from 0.86414\n",
      "307/307 [==============================] - 175s 569ms/step - loss: 0.0058 - mean_iou: 0.9165 - acc: 0.9975 - val_loss: 0.0142 - val_mean_iou: 0.8633 - val_acc: 0.9957 - lr: 0.0030\n",
      "Epoch 44/80\n",
      "307/307 [==============================] - ETA: 0s - loss: 0.0057 - mean_iou: 0.9179 - acc: 0.9976\n",
      "Epoch 00044: val_mean_iou did not improve from 0.86414\n",
      "307/307 [==============================] - 178s 580ms/step - loss: 0.0057 - mean_iou: 0.9179 - acc: 0.9976 - val_loss: 0.0148 - val_mean_iou: 0.8592 - val_acc: 0.9956 - lr: 0.0030\n",
      "Epoch 45/80\n",
      "307/307 [==============================] - ETA: 0s - loss: 0.0056 - mean_iou: 0.9188 - acc: 0.9976\n",
      "Epoch 00045: val_mean_iou did not improve from 0.86414\n",
      "307/307 [==============================] - 177s 577ms/step - loss: 0.0056 - mean_iou: 0.9188 - acc: 0.9976 - val_loss: 0.0145 - val_mean_iou: 0.8621 - val_acc: 0.9956 - lr: 0.0030\n",
      "Epoch 46/80\n",
      "307/307 [==============================] - ETA: 0s - loss: 0.0056 - mean_iou: 0.9202 - acc: 0.9976\n",
      "Epoch 00046: val_mean_iou did not improve from 0.86414\n",
      "307/307 [==============================] - 177s 575ms/step - loss: 0.0056 - mean_iou: 0.9202 - acc: 0.9976 - val_loss: 0.0142 - val_mean_iou: 0.8595 - val_acc: 0.9956 - lr: 0.0030\n",
      "Epoch 47/80\n",
      "307/307 [==============================] - ETA: 0s - loss: 0.0054 - mean_iou: 0.9217 - acc: 0.9977\n",
      "Epoch 00047: val_mean_iou did not improve from 0.86414\n",
      "307/307 [==============================] - 177s 575ms/step - loss: 0.0054 - mean_iou: 0.9217 - acc: 0.9977 - val_loss: 0.0151 - val_mean_iou: 0.8611 - val_acc: 0.9955 - lr: 0.0030\n",
      "Epoch 48/80\n",
      "307/307 [==============================] - ETA: 0s - loss: 0.0054 - mean_iou: 0.9229 - acc: 0.9977\n",
      "Epoch 00048: val_mean_iou did not improve from 0.86414\n",
      "307/307 [==============================] - 177s 575ms/step - loss: 0.0054 - mean_iou: 0.9229 - acc: 0.9977 - val_loss: 0.0146 - val_mean_iou: 0.8638 - val_acc: 0.9956 - lr: 0.0030\n",
      "Epoch 49/80\n",
      "307/307 [==============================] - ETA: 0s - loss: 0.0053 - mean_iou: 0.9240 - acc: 0.9978\n",
      "Epoch 00049: val_mean_iou did not improve from 0.86414\n",
      "307/307 [==============================] - 179s 583ms/step - loss: 0.0053 - mean_iou: 0.9240 - acc: 0.9978 - val_loss: 0.0154 - val_mean_iou: 0.8591 - val_acc: 0.9955 - lr: 0.0030\n",
      "Epoch 50/80\n",
      "307/307 [==============================] - ETA: 0s - loss: 0.0052 - mean_iou: 0.9251 - acc: 0.9978\n",
      "Epoch 00050: val_mean_iou did not improve from 0.86414\n",
      "307/307 [==============================] - 176s 573ms/step - loss: 0.0052 - mean_iou: 0.9251 - acc: 0.9978 - val_loss: 0.0145 - val_mean_iou: 0.8610 - val_acc: 0.9955 - lr: 0.0030\n",
      "Epoch 51/80\n",
      "307/307 [==============================] - ETA: 0s - loss: 0.0050 - mean_iou: 0.9271 - acc: 0.9979\n",
      "Epoch 00051: val_mean_iou did not improve from 0.86414\n",
      "307/307 [==============================] - 180s 585ms/step - loss: 0.0050 - mean_iou: 0.9271 - acc: 0.9979 - val_loss: 0.0163 - val_mean_iou: 0.8555 - val_acc: 0.9956 - lr: 0.0030\n",
      "Epoch 52/80\n",
      "307/307 [==============================] - ETA: 0s - loss: 0.0050 - mean_iou: 0.9277 - acc: 0.9979\n",
      "Epoch 00052: val_mean_iou did not improve from 0.86414\n",
      "307/307 [==============================] - 179s 584ms/step - loss: 0.0050 - mean_iou: 0.9277 - acc: 0.9979 - val_loss: 0.0150 - val_mean_iou: 0.8576 - val_acc: 0.9952 - lr: 0.0030\n",
      "Epoch 53/80\n",
      "307/307 [==============================] - ETA: 0s - loss: 0.0049 - mean_iou: 0.9291 - acc: 0.9979\n",
      "Epoch 00053: val_mean_iou did not improve from 0.86414\n",
      "307/307 [==============================] - 180s 585ms/step - loss: 0.0049 - mean_iou: 0.9291 - acc: 0.9979 - val_loss: 0.0158 - val_mean_iou: 0.8623 - val_acc: 0.9956 - lr: 0.0030\n",
      "Epoch 54/80\n",
      "307/307 [==============================] - ETA: 0s - loss: 0.0049 - mean_iou: 0.9290 - acc: 0.9979\n",
      "Epoch 00054: val_mean_iou did not improve from 0.86414\n",
      "307/307 [==============================] - 178s 580ms/step - loss: 0.0049 - mean_iou: 0.9290 - acc: 0.9979 - val_loss: 0.0158 - val_mean_iou: 0.8564 - val_acc: 0.9955 - lr: 0.0030\n",
      "Epoch 55/80\n",
      "307/307 [==============================] - ETA: 0s - loss: 0.0048 - mean_iou: 0.9302 - acc: 0.9979\n",
      "Epoch 00055: val_mean_iou did not improve from 0.86414\n",
      "307/307 [==============================] - 178s 581ms/step - loss: 0.0048 - mean_iou: 0.9302 - acc: 0.9979 - val_loss: 0.0158 - val_mean_iou: 0.8615 - val_acc: 0.9956 - lr: 0.0030\n",
      "Epoch 56/80\n",
      "307/307 [==============================] - ETA: 0s - loss: 0.0047 - mean_iou: 0.9316 - acc: 0.9980\n",
      "Epoch 00056: val_mean_iou did not improve from 0.86414\n",
      "307/307 [==============================] - 178s 578ms/step - loss: 0.0047 - mean_iou: 0.9316 - acc: 0.9980 - val_loss: 0.0159 - val_mean_iou: 0.8568 - val_acc: 0.9954 - lr: 0.0030\n",
      "Epoch 57/80\n",
      "307/307 [==============================] - ETA: 0s - loss: 0.0046 - mean_iou: 0.9331 - acc: 0.9980\n",
      "Epoch 00057: val_mean_iou did not improve from 0.86414\n",
      "307/307 [==============================] - 179s 584ms/step - loss: 0.0046 - mean_iou: 0.9331 - acc: 0.9980 - val_loss: 0.0170 - val_mean_iou: 0.8598 - val_acc: 0.9956 - lr: 0.0030\n",
      "Epoch 58/80\n",
      "307/307 [==============================] - ETA: 0s - loss: 0.0045 - mean_iou: 0.9341 - acc: 0.9981\n",
      "Epoch 00058: val_mean_iou did not improve from 0.86414\n",
      "307/307 [==============================] - 181s 590ms/step - loss: 0.0045 - mean_iou: 0.9341 - acc: 0.9981 - val_loss: 0.0162 - val_mean_iou: 0.8621 - val_acc: 0.9955 - lr: 0.0030\n",
      "Epoch 59/80\n",
      "307/307 [==============================] - ETA: 0s - loss: 0.0045 - mean_iou: 0.9347 - acc: 0.9981\n",
      "Epoch 00059: val_mean_iou did not improve from 0.86414\n",
      "307/307 [==============================] - 180s 587ms/step - loss: 0.0045 - mean_iou: 0.9347 - acc: 0.9981 - val_loss: 0.0162 - val_mean_iou: 0.8596 - val_acc: 0.9954 - lr: 0.0030\n",
      "Epoch 60/80\n",
      "307/307 [==============================] - ETA: 0s - loss: 0.0045 - mean_iou: 0.9355 - acc: 0.9981\n",
      "Epoch 00060: val_mean_iou did not improve from 0.86414\n",
      "307/307 [==============================] - 174s 567ms/step - loss: 0.0045 - mean_iou: 0.9355 - acc: 0.9981 - val_loss: 0.0169 - val_mean_iou: 0.8564 - val_acc: 0.9955 - lr: 0.0030\n",
      "Epoch 61/80\n",
      "307/307 [==============================] - ETA: 0s - loss: 0.0043 - mean_iou: 0.9373 - acc: 0.9982\n",
      "Epoch 00061: val_mean_iou did not improve from 0.86414\n",
      "307/307 [==============================] - 178s 581ms/step - loss: 0.0043 - mean_iou: 0.9373 - acc: 0.9982 - val_loss: 0.0172 - val_mean_iou: 0.8589 - val_acc: 0.9955 - lr: 0.0030\n",
      "Epoch 62/80\n",
      "307/307 [==============================] - ETA: 0s - loss: 0.0042 - mean_iou: 0.9379 - acc: 0.9982\n",
      "Epoch 00062: val_mean_iou did not improve from 0.86414\n",
      "307/307 [==============================] - 176s 573ms/step - loss: 0.0042 - mean_iou: 0.9379 - acc: 0.9982 - val_loss: 0.0166 - val_mean_iou: 0.8584 - val_acc: 0.9953 - lr: 0.0030\n",
      "Epoch 63/80\n",
      "307/307 [==============================] - ETA: 0s - loss: 0.0042 - mean_iou: 0.9383 - acc: 0.9982\n",
      "Epoch 00063: val_mean_iou did not improve from 0.86414\n",
      "307/307 [==============================] - 178s 580ms/step - loss: 0.0042 - mean_iou: 0.9383 - acc: 0.9982 - val_loss: 0.0192 - val_mean_iou: 0.8577 - val_acc: 0.9955 - lr: 0.0030\n",
      "Epoch 64/80\n",
      "307/307 [==============================] - ETA: 0s - loss: 0.0042 - mean_iou: 0.9386 - acc: 0.9982\n",
      "Epoch 00064: val_mean_iou did not improve from 0.86414\n",
      "307/307 [==============================] - 179s 581ms/step - loss: 0.0042 - mean_iou: 0.9386 - acc: 0.9982 - val_loss: 0.0180 - val_mean_iou: 0.8552 - val_acc: 0.9955 - lr: 0.0030\n",
      "Epoch 65/80\n",
      "307/307 [==============================] - ETA: 0s - loss: 0.0040 - mean_iou: 0.9415 - acc: 0.9983\n",
      "Epoch 00065: val_mean_iou did not improve from 0.86414\n",
      "307/307 [==============================] - 174s 566ms/step - loss: 0.0040 - mean_iou: 0.9415 - acc: 0.9983 - val_loss: 0.0185 - val_mean_iou: 0.8612 - val_acc: 0.9955 - lr: 0.0030\n",
      "Epoch 66/80\n",
      "307/307 [==============================] - ETA: 0s - loss: 0.0040 - mean_iou: 0.9412 - acc: 0.9983\n",
      "Epoch 00066: val_mean_iou did not improve from 0.86414\n",
      "307/307 [==============================] - 175s 571ms/step - loss: 0.0040 - mean_iou: 0.9412 - acc: 0.9983 - val_loss: 0.0192 - val_mean_iou: 0.8617 - val_acc: 0.9955 - lr: 0.0030\n",
      "Epoch 67/80\n",
      "307/307 [==============================] - ETA: 0s - loss: 0.0040 - mean_iou: 0.9417 - acc: 0.9983\n",
      "Epoch 00067: val_mean_iou did not improve from 0.86414\n",
      "307/307 [==============================] - 174s 567ms/step - loss: 0.0040 - mean_iou: 0.9417 - acc: 0.9983 - val_loss: 0.0197 - val_mean_iou: 0.8579 - val_acc: 0.9955 - lr: 0.0030\n",
      "Epoch 68/80\n",
      "307/307 [==============================] - ETA: 0s - loss: 0.0039 - mean_iou: 0.9426 - acc: 0.9983\n",
      "Epoch 00068: val_mean_iou did not improve from 0.86414\n",
      "\n",
      "Epoch 00068: ReduceLROnPlateau reducing learning rate to 0.0009000000078231095.\n",
      "307/307 [==============================] - 177s 576ms/step - loss: 0.0039 - mean_iou: 0.9426 - acc: 0.9983 - val_loss: 0.0195 - val_mean_iou: 0.8617 - val_acc: 0.9956 - lr: 0.0030\n",
      "Epoch 69/80\n",
      "307/307 [==============================] - ETA: 0s - loss: 0.0036 - mean_iou: 0.9482 - acc: 0.9985\n",
      "Epoch 00069: val_mean_iou did not improve from 0.86414\n",
      "307/307 [==============================] - 175s 568ms/step - loss: 0.0036 - mean_iou: 0.9482 - acc: 0.9985 - val_loss: 0.0199 - val_mean_iou: 0.8616 - val_acc: 0.9956 - lr: 9.0000e-04\n",
      "Epoch 70/80\n",
      "307/307 [==============================] - ETA: 0s - loss: 0.0032 - mean_iou: 0.9523 - acc: 0.9986\n",
      "Epoch 00070: val_mean_iou did not improve from 0.86414\n",
      "307/307 [==============================] - 174s 567ms/step - loss: 0.0032 - mean_iou: 0.9523 - acc: 0.9986 - val_loss: 0.0224 - val_mean_iou: 0.8619 - val_acc: 0.9956 - lr: 9.0000e-04\n",
      "Epoch 71/80\n",
      "307/307 [==============================] - ETA: 0s - loss: 0.0031 - mean_iou: 0.9541 - acc: 0.9987\n",
      "Epoch 00071: val_mean_iou did not improve from 0.86414\n",
      "307/307 [==============================] - 173s 563ms/step - loss: 0.0031 - mean_iou: 0.9541 - acc: 0.9987 - val_loss: 0.0223 - val_mean_iou: 0.8635 - val_acc: 0.9956 - lr: 9.0000e-04\n",
      "Epoch 72/80\n",
      "307/307 [==============================] - ETA: 0s - loss: 0.0031 - mean_iou: 0.9550 - acc: 0.9987\n",
      "Epoch 00072: val_mean_iou did not improve from 0.86414\n",
      "307/307 [==============================] - 173s 563ms/step - loss: 0.0031 - mean_iou: 0.9550 - acc: 0.9987 - val_loss: 0.0241 - val_mean_iou: 0.8608 - val_acc: 0.9956 - lr: 9.0000e-04\n",
      "Epoch 73/80\n",
      "307/307 [==============================] - ETA: 0s - loss: 0.0030 - mean_iou: 0.9556 - acc: 0.9987\n",
      "Epoch 00073: val_mean_iou did not improve from 0.86414\n",
      "307/307 [==============================] - 174s 566ms/step - loss: 0.0030 - mean_iou: 0.9556 - acc: 0.9987 - val_loss: 0.0231 - val_mean_iou: 0.8602 - val_acc: 0.9955 - lr: 9.0000e-04\n",
      "Epoch 74/80\n",
      "307/307 [==============================] - ETA: 0s - loss: 0.0030 - mean_iou: 0.9555 - acc: 0.9987\n",
      "Epoch 00074: val_mean_iou did not improve from 0.86414\n",
      "307/307 [==============================] - 174s 566ms/step - loss: 0.0030 - mean_iou: 0.9555 - acc: 0.9987 - val_loss: 0.0248 - val_mean_iou: 0.8591 - val_acc: 0.9956 - lr: 9.0000e-04\n",
      "Epoch 75/80\n",
      "307/307 [==============================] - ETA: 0s - loss: 0.0029 - mean_iou: 0.9569 - acc: 0.9988\n",
      "Epoch 00075: val_mean_iou did not improve from 0.86414\n",
      "307/307 [==============================] - 182s 593ms/step - loss: 0.0029 - mean_iou: 0.9569 - acc: 0.9988 - val_loss: 0.0240 - val_mean_iou: 0.8594 - val_acc: 0.9956 - lr: 9.0000e-04\n",
      "Epoch 76/80\n",
      "307/307 [==============================] - ETA: 0s - loss: 0.0029 - mean_iou: 0.9567 - acc: 0.9988\n",
      "Epoch 00076: val_mean_iou did not improve from 0.86414\n",
      "\n",
      "Epoch 00076: ReduceLROnPlateau reducing learning rate to 0.00026999999536201356.\n",
      "307/307 [==============================] - 177s 577ms/step - loss: 0.0029 - mean_iou: 0.9567 - acc: 0.9988 - val_loss: 0.0240 - val_mean_iou: 0.8588 - val_acc: 0.9956 - lr: 9.0000e-04\n",
      "Epoch 77/80\n",
      "307/307 [==============================] - ETA: 0s - loss: 0.0028 - mean_iou: 0.9587 - acc: 0.9988\n",
      "Epoch 00077: val_mean_iou improved from 0.86414 to 0.86520, saving model to resunet.h5\n"
     ]
    },
    {
     "name": "stderr",
     "output_type": "stream",
     "text": [
      "C:\\ProgramData\\Anaconda3\\lib\\site-packages\\keras\\engine\\functional.py:1410: CustomMaskWarning: Custom mask layers require a config and must override get_config. When loading, the custom mask layer must be passed to the custom_objects argument.\n",
      "  layer_config = serialize_layer_fn(layer)\n"
     ]
    },
    {
     "name": "stdout",
     "output_type": "stream",
     "text": [
      "307/307 [==============================] - 180s 587ms/step - loss: 0.0028 - mean_iou: 0.9587 - acc: 0.9988 - val_loss: 0.0250 - val_mean_iou: 0.8652 - val_acc: 0.9956 - lr: 2.7000e-04\n",
      "Epoch 78/80\n",
      "307/307 [==============================] - ETA: 0s - loss: 0.0027 - mean_iou: 0.9598 - acc: 0.9989\n",
      "Epoch 00078: val_mean_iou did not improve from 0.86520\n",
      "307/307 [==============================] - 175s 570ms/step - loss: 0.0027 - mean_iou: 0.9598 - acc: 0.9989 - val_loss: 0.0248 - val_mean_iou: 0.8621 - val_acc: 0.9956 - lr: 2.7000e-04\n",
      "Epoch 79/80\n",
      "307/307 [==============================] - ETA: 0s - loss: 0.0027 - mean_iou: 0.9602 - acc: 0.9989\n",
      "Epoch 00079: val_mean_iou did not improve from 0.86520\n",
      "307/307 [==============================] - 178s 581ms/step - loss: 0.0027 - mean_iou: 0.9602 - acc: 0.9989 - val_loss: 0.0264 - val_mean_iou: 0.8592 - val_acc: 0.9956 - lr: 2.7000e-04\n",
      "Epoch 80/80\n",
      "307/307 [==============================] - ETA: 0s - loss: 0.0027 - mean_iou: 0.9607 - acc: 0.9989\n",
      "Epoch 00080: val_mean_iou did not improve from 0.86520\n",
      "307/307 [==============================] - 177s 575ms/step - loss: 0.0027 - mean_iou: 0.9607 - acc: 0.9989 - val_loss: 0.0267 - val_mean_iou: 0.8631 - val_acc: 0.9956 - lr: 2.7000e-04\n"
     ]
    }
   ],
   "source": [
    "unet.compile(loss= tf.keras.losses.SparseCategoricalCrossentropy(), optimizer = tf.keras.optimizers.Adam(learning_rate = 0.01), metrics= [m.mean_iou, 'acc'], run_eagerly= True)\n",
    "history = unet.fit(train_data, validation_data= valid_data, epochs= 80, verbose= 1, callbacks = [checkpoint, lr_R])"
   ]
  },
  {
   "cell_type": "markdown",
   "id": "704b1a44",
   "metadata": {},
   "source": [
    "# V. Predict and show history"
   ]
  },
  {
   "cell_type": "code",
   "execution_count": 26,
   "id": "65744855",
   "metadata": {},
   "outputs": [],
   "source": [
    "with open('label.pickle', 'rb') as handel:\n",
    "    label = pickle.load(handel)"
   ]
  },
  {
   "cell_type": "code",
   "execution_count": 27,
   "id": "8402f90d",
   "metadata": {},
   "outputs": [],
   "source": [
    "with open('kmean.pickle', 'rb') as handel:\n",
    "    kmean = pickle.load(handel)"
   ]
  },
  {
   "cell_type": "code",
   "execution_count": 21,
   "id": "6b3e2313",
   "metadata": {
    "scrolled": false
   },
   "outputs": [
    {
     "data": {
      "image/png": "[encoded data removed]",
      "text/plain": [
       "<Figure size 1440x360 with 1 Axes>"
      ]
     },
     "metadata": {
      "needs_background": "light"
     },
     "output_type": "display_data"
    },
    {
     "data": {
      "image/png": "[encoded data removed]",
      "text/plain": [
       "<Figure size 1440x360 with 1 Axes>"
      ]
     },
     "metadata": {
      "needs_background": "light"
     },
     "output_type": "display_data"
    },
    {
     "data": {
      "image/png": "[encoded data removed]",
      "text/plain": [
       "<Figure size 1440x360 with 1 Axes>"
      ]
     },
     "metadata": {
      "needs_background": "light"
     },
     "output_type": "display_data"
    }
   ],
   "source": [
    "show_history(history, True)"
   ]
  },
  {
   "cell_type": "code",
   "execution_count": 22,
   "id": "cc6525ba",
   "metadata": {},
   "outputs": [],
   "source": [
    "from tensorflow.keras.models import load_model\n",
    "model = load_model('resunet.h5', custom_objects = {'mean_iou': m.mean_iou})"
   ]
  },
  {
   "cell_type": "code",
   "execution_count": 29,
   "id": "6d51e40c",
   "metadata": {
    "scrolled": false
   },
   "outputs": [
    {
     "name": "stdout",
     "output_type": "stream",
     "text": [
      "IoU for class1 is: 0.9971284100131095\n",
      "IoU for class2 is: 0.8880778588807786\n"
     ]
    },
    {
     "data": {
      "image/png": "[encoded data removed]",
      "text/plain": [
       "<Figure size 864x216 with 3 Axes>"
      ]
     },
     "metadata": {
      "needs_background": "light"
     },
     "output_type": "display_data"
    }
   ],
   "source": [
    "show_example(*all_valid_filenames[0], model, label, (128,128), 'rgb', kmean= kmean)"
   ]
  }
 ],
 "metadata": {
  "kernelspec": {
   "display_name": "Python 3 (ipykernel)",
   "language": "python",
   "name": "python3"
  },
  "language_info": {
   "codemirror_mode": {
    "name": "ipython",
    "version": 3
   },
   "file_extension": ".py",
   "mimetype": "text/x-python",
   "name": "python",
   "nbconvert_exporter": "python",
   "pygments_lexer": "ipython3",
   "version": "3.9.7"
  }
 },
 "nbformat": 4,
 "nbformat_minor": 5
}
